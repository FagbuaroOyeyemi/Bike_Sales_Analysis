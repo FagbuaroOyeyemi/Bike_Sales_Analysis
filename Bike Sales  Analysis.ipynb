{
 "cells": [
  {
   "cell_type": "code",
   "execution_count": 1,
   "id": "44429a0d",
   "metadata": {},
   "outputs": [],
   "source": [
    "#Importing the Libraries\n",
    "\n",
    "import pandas as pd\n",
    "import numpy as np\n",
    "import matplotlib.pyplot as plt\n",
    "import seaborn as sns\n",
    "import warnings\n",
    "warnings.filterwarnings('ignore')\n",
    "%matplotlib inline"
   ]
  },
  {
   "cell_type": "code",
   "execution_count": 2,
   "id": "4fef8c94",
   "metadata": {},
   "outputs": [],
   "source": [
    "#Importing the dataset\n",
    "\n",
    "df=pd.read_csv('C:\\\\Users\\\\HP\\\\Downloads\\\\archive (4)\\\\Sales.csv')"
   ]
  },
  {
   "cell_type": "code",
   "execution_count": 3,
   "id": "30d1f60d",
   "metadata": {},
   "outputs": [],
   "source": [
    "#Making a copy of the dataset\n",
    "\n",
    "df2=df.copy()"
   ]
  },
  {
   "cell_type": "markdown",
   "id": "0857c8cb",
   "metadata": {},
   "source": [
    "## Data Overview"
   ]
  },
  {
   "cell_type": "code",
   "execution_count": 4,
   "id": "949ac3ea",
   "metadata": {},
   "outputs": [
    {
     "data": {
      "text/html": [
       "<div>\n",
       "<style scoped>\n",
       "    .dataframe tbody tr th:only-of-type {\n",
       "        vertical-align: middle;\n",
       "    }\n",
       "\n",
       "    .dataframe tbody tr th {\n",
       "        vertical-align: top;\n",
       "    }\n",
       "\n",
       "    .dataframe thead th {\n",
       "        text-align: right;\n",
       "    }\n",
       "</style>\n",
       "<table border=\"1\" class=\"dataframe\">\n",
       "  <thead>\n",
       "    <tr style=\"text-align: right;\">\n",
       "      <th></th>\n",
       "      <th>Date</th>\n",
       "      <th>Day</th>\n",
       "      <th>Month</th>\n",
       "      <th>Year</th>\n",
       "      <th>Customer_Age</th>\n",
       "      <th>Age_Group</th>\n",
       "      <th>Customer_Gender</th>\n",
       "      <th>Country</th>\n",
       "      <th>State</th>\n",
       "      <th>Product_Category</th>\n",
       "      <th>Sub_Category</th>\n",
       "      <th>Product</th>\n",
       "      <th>Order_Quantity</th>\n",
       "      <th>Unit_Cost</th>\n",
       "      <th>Unit_Price</th>\n",
       "      <th>Profit</th>\n",
       "      <th>Cost</th>\n",
       "      <th>Revenue</th>\n",
       "    </tr>\n",
       "  </thead>\n",
       "  <tbody>\n",
       "    <tr>\n",
       "      <th>0</th>\n",
       "      <td>2013-11-26</td>\n",
       "      <td>26</td>\n",
       "      <td>November</td>\n",
       "      <td>2013</td>\n",
       "      <td>19</td>\n",
       "      <td>Youth (&lt;25)</td>\n",
       "      <td>M</td>\n",
       "      <td>Canada</td>\n",
       "      <td>British Columbia</td>\n",
       "      <td>Accessories</td>\n",
       "      <td>Bike Racks</td>\n",
       "      <td>Hitch Rack - 4-Bike</td>\n",
       "      <td>8</td>\n",
       "      <td>45</td>\n",
       "      <td>120</td>\n",
       "      <td>590</td>\n",
       "      <td>360</td>\n",
       "      <td>950</td>\n",
       "    </tr>\n",
       "    <tr>\n",
       "      <th>1</th>\n",
       "      <td>2015-11-26</td>\n",
       "      <td>26</td>\n",
       "      <td>November</td>\n",
       "      <td>2015</td>\n",
       "      <td>19</td>\n",
       "      <td>Youth (&lt;25)</td>\n",
       "      <td>M</td>\n",
       "      <td>Canada</td>\n",
       "      <td>British Columbia</td>\n",
       "      <td>Accessories</td>\n",
       "      <td>Bike Racks</td>\n",
       "      <td>Hitch Rack - 4-Bike</td>\n",
       "      <td>8</td>\n",
       "      <td>45</td>\n",
       "      <td>120</td>\n",
       "      <td>590</td>\n",
       "      <td>360</td>\n",
       "      <td>950</td>\n",
       "    </tr>\n",
       "    <tr>\n",
       "      <th>2</th>\n",
       "      <td>2014-03-23</td>\n",
       "      <td>23</td>\n",
       "      <td>March</td>\n",
       "      <td>2014</td>\n",
       "      <td>49</td>\n",
       "      <td>Adults (35-64)</td>\n",
       "      <td>M</td>\n",
       "      <td>Australia</td>\n",
       "      <td>New South Wales</td>\n",
       "      <td>Accessories</td>\n",
       "      <td>Bike Racks</td>\n",
       "      <td>Hitch Rack - 4-Bike</td>\n",
       "      <td>23</td>\n",
       "      <td>45</td>\n",
       "      <td>120</td>\n",
       "      <td>1366</td>\n",
       "      <td>1035</td>\n",
       "      <td>2401</td>\n",
       "    </tr>\n",
       "    <tr>\n",
       "      <th>3</th>\n",
       "      <td>2016-03-23</td>\n",
       "      <td>23</td>\n",
       "      <td>March</td>\n",
       "      <td>2016</td>\n",
       "      <td>49</td>\n",
       "      <td>Adults (35-64)</td>\n",
       "      <td>M</td>\n",
       "      <td>Australia</td>\n",
       "      <td>New South Wales</td>\n",
       "      <td>Accessories</td>\n",
       "      <td>Bike Racks</td>\n",
       "      <td>Hitch Rack - 4-Bike</td>\n",
       "      <td>20</td>\n",
       "      <td>45</td>\n",
       "      <td>120</td>\n",
       "      <td>1188</td>\n",
       "      <td>900</td>\n",
       "      <td>2088</td>\n",
       "    </tr>\n",
       "    <tr>\n",
       "      <th>4</th>\n",
       "      <td>2014-05-15</td>\n",
       "      <td>15</td>\n",
       "      <td>May</td>\n",
       "      <td>2014</td>\n",
       "      <td>47</td>\n",
       "      <td>Adults (35-64)</td>\n",
       "      <td>F</td>\n",
       "      <td>Australia</td>\n",
       "      <td>New South Wales</td>\n",
       "      <td>Accessories</td>\n",
       "      <td>Bike Racks</td>\n",
       "      <td>Hitch Rack - 4-Bike</td>\n",
       "      <td>4</td>\n",
       "      <td>45</td>\n",
       "      <td>120</td>\n",
       "      <td>238</td>\n",
       "      <td>180</td>\n",
       "      <td>418</td>\n",
       "    </tr>\n",
       "  </tbody>\n",
       "</table>\n",
       "</div>"
      ],
      "text/plain": [
       "         Date  Day     Month  Year  Customer_Age       Age_Group  \\\n",
       "0  2013-11-26   26  November  2013            19     Youth (<25)   \n",
       "1  2015-11-26   26  November  2015            19     Youth (<25)   \n",
       "2  2014-03-23   23     March  2014            49  Adults (35-64)   \n",
       "3  2016-03-23   23     March  2016            49  Adults (35-64)   \n",
       "4  2014-05-15   15       May  2014            47  Adults (35-64)   \n",
       "\n",
       "  Customer_Gender    Country             State Product_Category Sub_Category  \\\n",
       "0               M     Canada  British Columbia      Accessories   Bike Racks   \n",
       "1               M     Canada  British Columbia      Accessories   Bike Racks   \n",
       "2               M  Australia   New South Wales      Accessories   Bike Racks   \n",
       "3               M  Australia   New South Wales      Accessories   Bike Racks   \n",
       "4               F  Australia   New South Wales      Accessories   Bike Racks   \n",
       "\n",
       "               Product  Order_Quantity  Unit_Cost  Unit_Price  Profit  Cost  \\\n",
       "0  Hitch Rack - 4-Bike               8         45         120     590   360   \n",
       "1  Hitch Rack - 4-Bike               8         45         120     590   360   \n",
       "2  Hitch Rack - 4-Bike              23         45         120    1366  1035   \n",
       "3  Hitch Rack - 4-Bike              20         45         120    1188   900   \n",
       "4  Hitch Rack - 4-Bike               4         45         120     238   180   \n",
       "\n",
       "   Revenue  \n",
       "0      950  \n",
       "1      950  \n",
       "2     2401  \n",
       "3     2088  \n",
       "4      418  "
      ]
     },
     "execution_count": 4,
     "metadata": {},
     "output_type": "execute_result"
    }
   ],
   "source": [
    "df.head()"
   ]
  },
  {
   "cell_type": "code",
   "execution_count": 5,
   "id": "e35839ae",
   "metadata": {},
   "outputs": [
    {
     "data": {
      "text/plain": [
       "Index(['Date', 'Day', 'Month', 'Year', 'Customer_Age', 'Age_Group',\n",
       "       'Customer_Gender', 'Country', 'State', 'Product_Category',\n",
       "       'Sub_Category', 'Product', 'Order_Quantity', 'Unit_Cost', 'Unit_Price',\n",
       "       'Profit', 'Cost', 'Revenue'],\n",
       "      dtype='object')"
      ]
     },
     "execution_count": 5,
     "metadata": {},
     "output_type": "execute_result"
    }
   ],
   "source": [
    "df.columns"
   ]
  },
  {
   "cell_type": "code",
   "execution_count": 6,
   "id": "8891ac37",
   "metadata": {},
   "outputs": [
    {
     "name": "stdout",
     "output_type": "stream",
     "text": [
      "<class 'pandas.core.frame.DataFrame'>\n",
      "RangeIndex: 113036 entries, 0 to 113035\n",
      "Data columns (total 18 columns):\n",
      " #   Column            Non-Null Count   Dtype \n",
      "---  ------            --------------   ----- \n",
      " 0   Date              113036 non-null  object\n",
      " 1   Day               113036 non-null  int64 \n",
      " 2   Month             113036 non-null  object\n",
      " 3   Year              113036 non-null  int64 \n",
      " 4   Customer_Age      113036 non-null  int64 \n",
      " 5   Age_Group         113036 non-null  object\n",
      " 6   Customer_Gender   113036 non-null  object\n",
      " 7   Country           113036 non-null  object\n",
      " 8   State             113036 non-null  object\n",
      " 9   Product_Category  113036 non-null  object\n",
      " 10  Sub_Category      113036 non-null  object\n",
      " 11  Product           113036 non-null  object\n",
      " 12  Order_Quantity    113036 non-null  int64 \n",
      " 13  Unit_Cost         113036 non-null  int64 \n",
      " 14  Unit_Price        113036 non-null  int64 \n",
      " 15  Profit            113036 non-null  int64 \n",
      " 16  Cost              113036 non-null  int64 \n",
      " 17  Revenue           113036 non-null  int64 \n",
      "dtypes: int64(9), object(9)\n",
      "memory usage: 15.5+ MB\n"
     ]
    }
   ],
   "source": [
    "df.info()"
   ]
  },
  {
   "cell_type": "code",
   "execution_count": 7,
   "id": "c2c82364",
   "metadata": {},
   "outputs": [
    {
     "data": {
      "text/plain": [
       "(113036, 18)"
      ]
     },
     "execution_count": 7,
     "metadata": {},
     "output_type": "execute_result"
    }
   ],
   "source": [
    "df.shape\n",
    "\n",
    "#The Dataset has 113036 rows and 18 columns"
   ]
  },
  {
   "cell_type": "code",
   "execution_count": 8,
   "id": "0efbabef",
   "metadata": {},
   "outputs": [
    {
     "data": {
      "text/html": [
       "<div>\n",
       "<style scoped>\n",
       "    .dataframe tbody tr th:only-of-type {\n",
       "        vertical-align: middle;\n",
       "    }\n",
       "\n",
       "    .dataframe tbody tr th {\n",
       "        vertical-align: top;\n",
       "    }\n",
       "\n",
       "    .dataframe thead th {\n",
       "        text-align: right;\n",
       "    }\n",
       "</style>\n",
       "<table border=\"1\" class=\"dataframe\">\n",
       "  <thead>\n",
       "    <tr style=\"text-align: right;\">\n",
       "      <th></th>\n",
       "      <th>Day</th>\n",
       "      <th>Year</th>\n",
       "      <th>Customer_Age</th>\n",
       "      <th>Order_Quantity</th>\n",
       "      <th>Unit_Cost</th>\n",
       "      <th>Unit_Price</th>\n",
       "      <th>Profit</th>\n",
       "      <th>Cost</th>\n",
       "      <th>Revenue</th>\n",
       "    </tr>\n",
       "  </thead>\n",
       "  <tbody>\n",
       "    <tr>\n",
       "      <th>count</th>\n",
       "      <td>113036.000000</td>\n",
       "      <td>113036.000000</td>\n",
       "      <td>113036.000000</td>\n",
       "      <td>113036.000000</td>\n",
       "      <td>113036.000000</td>\n",
       "      <td>113036.000000</td>\n",
       "      <td>113036.000000</td>\n",
       "      <td>113036.000000</td>\n",
       "      <td>113036.000000</td>\n",
       "    </tr>\n",
       "    <tr>\n",
       "      <th>mean</th>\n",
       "      <td>15.665753</td>\n",
       "      <td>2014.401739</td>\n",
       "      <td>35.919212</td>\n",
       "      <td>11.901660</td>\n",
       "      <td>267.296366</td>\n",
       "      <td>452.938427</td>\n",
       "      <td>285.051665</td>\n",
       "      <td>469.318695</td>\n",
       "      <td>754.370360</td>\n",
       "    </tr>\n",
       "    <tr>\n",
       "      <th>std</th>\n",
       "      <td>8.781567</td>\n",
       "      <td>1.272510</td>\n",
       "      <td>11.021936</td>\n",
       "      <td>9.561857</td>\n",
       "      <td>549.835483</td>\n",
       "      <td>922.071219</td>\n",
       "      <td>453.887443</td>\n",
       "      <td>884.866118</td>\n",
       "      <td>1309.094674</td>\n",
       "    </tr>\n",
       "    <tr>\n",
       "      <th>min</th>\n",
       "      <td>1.000000</td>\n",
       "      <td>2011.000000</td>\n",
       "      <td>17.000000</td>\n",
       "      <td>1.000000</td>\n",
       "      <td>1.000000</td>\n",
       "      <td>2.000000</td>\n",
       "      <td>-30.000000</td>\n",
       "      <td>1.000000</td>\n",
       "      <td>2.000000</td>\n",
       "    </tr>\n",
       "    <tr>\n",
       "      <th>25%</th>\n",
       "      <td>8.000000</td>\n",
       "      <td>2013.000000</td>\n",
       "      <td>28.000000</td>\n",
       "      <td>2.000000</td>\n",
       "      <td>2.000000</td>\n",
       "      <td>5.000000</td>\n",
       "      <td>29.000000</td>\n",
       "      <td>28.000000</td>\n",
       "      <td>63.000000</td>\n",
       "    </tr>\n",
       "    <tr>\n",
       "      <th>50%</th>\n",
       "      <td>16.000000</td>\n",
       "      <td>2014.000000</td>\n",
       "      <td>35.000000</td>\n",
       "      <td>10.000000</td>\n",
       "      <td>9.000000</td>\n",
       "      <td>24.000000</td>\n",
       "      <td>101.000000</td>\n",
       "      <td>108.000000</td>\n",
       "      <td>223.000000</td>\n",
       "    </tr>\n",
       "    <tr>\n",
       "      <th>75%</th>\n",
       "      <td>23.000000</td>\n",
       "      <td>2016.000000</td>\n",
       "      <td>43.000000</td>\n",
       "      <td>20.000000</td>\n",
       "      <td>42.000000</td>\n",
       "      <td>70.000000</td>\n",
       "      <td>358.000000</td>\n",
       "      <td>432.000000</td>\n",
       "      <td>800.000000</td>\n",
       "    </tr>\n",
       "    <tr>\n",
       "      <th>max</th>\n",
       "      <td>31.000000</td>\n",
       "      <td>2016.000000</td>\n",
       "      <td>87.000000</td>\n",
       "      <td>32.000000</td>\n",
       "      <td>2171.000000</td>\n",
       "      <td>3578.000000</td>\n",
       "      <td>15096.000000</td>\n",
       "      <td>42978.000000</td>\n",
       "      <td>58074.000000</td>\n",
       "    </tr>\n",
       "  </tbody>\n",
       "</table>\n",
       "</div>"
      ],
      "text/plain": [
       "                 Day           Year   Customer_Age  Order_Quantity  \\\n",
       "count  113036.000000  113036.000000  113036.000000   113036.000000   \n",
       "mean       15.665753    2014.401739      35.919212       11.901660   \n",
       "std         8.781567       1.272510      11.021936        9.561857   \n",
       "min         1.000000    2011.000000      17.000000        1.000000   \n",
       "25%         8.000000    2013.000000      28.000000        2.000000   \n",
       "50%        16.000000    2014.000000      35.000000       10.000000   \n",
       "75%        23.000000    2016.000000      43.000000       20.000000   \n",
       "max        31.000000    2016.000000      87.000000       32.000000   \n",
       "\n",
       "           Unit_Cost     Unit_Price         Profit           Cost  \\\n",
       "count  113036.000000  113036.000000  113036.000000  113036.000000   \n",
       "mean      267.296366     452.938427     285.051665     469.318695   \n",
       "std       549.835483     922.071219     453.887443     884.866118   \n",
       "min         1.000000       2.000000     -30.000000       1.000000   \n",
       "25%         2.000000       5.000000      29.000000      28.000000   \n",
       "50%         9.000000      24.000000     101.000000     108.000000   \n",
       "75%        42.000000      70.000000     358.000000     432.000000   \n",
       "max      2171.000000    3578.000000   15096.000000   42978.000000   \n",
       "\n",
       "             Revenue  \n",
       "count  113036.000000  \n",
       "mean      754.370360  \n",
       "std      1309.094674  \n",
       "min         2.000000  \n",
       "25%        63.000000  \n",
       "50%       223.000000  \n",
       "75%       800.000000  \n",
       "max     58074.000000  "
      ]
     },
     "execution_count": 8,
     "metadata": {},
     "output_type": "execute_result"
    }
   ],
   "source": [
    "df.describe()"
   ]
  },
  {
   "cell_type": "code",
   "execution_count": 9,
   "id": "d7333a79",
   "metadata": {},
   "outputs": [
    {
     "data": {
      "text/plain": [
       "Date                object\n",
       "Day                  int64\n",
       "Month               object\n",
       "Year                 int64\n",
       "Customer_Age         int64\n",
       "Age_Group           object\n",
       "Customer_Gender     object\n",
       "Country             object\n",
       "State               object\n",
       "Product_Category    object\n",
       "Sub_Category        object\n",
       "Product             object\n",
       "Order_Quantity       int64\n",
       "Unit_Cost            int64\n",
       "Unit_Price           int64\n",
       "Profit               int64\n",
       "Cost                 int64\n",
       "Revenue              int64\n",
       "dtype: object"
      ]
     },
     "execution_count": 9,
     "metadata": {},
     "output_type": "execute_result"
    }
   ],
   "source": [
    "df.dtypes"
   ]
  },
  {
   "cell_type": "code",
   "execution_count": 10,
   "id": "3213f347",
   "metadata": {},
   "outputs": [
    {
     "data": {
      "text/plain": [
       "Date                0\n",
       "Day                 0\n",
       "Month               0\n",
       "Year                0\n",
       "Customer_Age        0\n",
       "Age_Group           0\n",
       "Customer_Gender     0\n",
       "Country             0\n",
       "State               0\n",
       "Product_Category    0\n",
       "Sub_Category        0\n",
       "Product             0\n",
       "Order_Quantity      0\n",
       "Unit_Cost           0\n",
       "Unit_Price          0\n",
       "Profit              0\n",
       "Cost                0\n",
       "Revenue             0\n",
       "dtype: int64"
      ]
     },
     "execution_count": 10,
     "metadata": {},
     "output_type": "execute_result"
    }
   ],
   "source": [
    "df.isnull().sum()\n",
    "\n",
    "#There are no null values in the dataset"
   ]
  },
  {
   "cell_type": "code",
   "execution_count": 11,
   "id": "3e3299d6",
   "metadata": {},
   "outputs": [
    {
     "data": {
      "text/plain": [
       "1000"
      ]
     },
     "execution_count": 11,
     "metadata": {},
     "output_type": "execute_result"
    }
   ],
   "source": [
    "#Checking for duplicate values\n",
    "\n",
    "df.duplicated().sum()\n",
    "\n",
    "#There are 1000 duplicate values in the dataset"
   ]
  },
  {
   "cell_type": "code",
   "execution_count": 12,
   "id": "6f7d2f1d",
   "metadata": {},
   "outputs": [
    {
     "data": {
      "text/plain": [
       "array(['Canada', 'Australia', 'United States', 'Germany', 'France',\n",
       "       'United Kingdom'], dtype=object)"
      ]
     },
     "execution_count": 12,
     "metadata": {},
     "output_type": "execute_result"
    }
   ],
   "source": [
    "#The Countries in the dataset\n",
    "\n",
    "df['Country'].unique()"
   ]
  },
  {
   "cell_type": "code",
   "execution_count": 13,
   "id": "ee993b1b",
   "metadata": {},
   "outputs": [
    {
     "data": {
      "text/plain": [
       "array(['British Columbia', 'New South Wales', 'Victoria', 'Oregon',\n",
       "       'California', 'Saarland', 'Seine Saint Denis', 'Moselle',\n",
       "       'Queensland', 'England', 'Nord', 'Washington', 'Hessen',\n",
       "       'Nordrhein-Westfalen', 'Hamburg', 'Loir et Cher', 'Kentucky',\n",
       "       'Seine (Paris)', 'South Australia', 'Loiret', 'Alberta', 'Bayern',\n",
       "       'Hauts de Seine', 'Yveline', 'Essonne', \"Val d'Oise\", 'Tasmania',\n",
       "       'Seine et Marne', 'Val de Marne', 'Pas de Calais',\n",
       "       'Charente-Maritime', 'Garonne (Haute)', 'Brandenburg', 'Texas',\n",
       "       'New York', 'Florida', 'Somme', 'Illinois', 'South Carolina',\n",
       "       'North Carolina', 'Georgia', 'Virginia', 'Ohio', 'Ontario',\n",
       "       'Wyoming', 'Missouri', 'Montana', 'Utah', 'Minnesota',\n",
       "       'Mississippi', 'Massachusetts', 'Arizona', 'Alabama'], dtype=object)"
      ]
     },
     "execution_count": 13,
     "metadata": {},
     "output_type": "execute_result"
    }
   ],
   "source": [
    "#The States in the dataset\n",
    "\n",
    "df['State'].unique()"
   ]
  },
  {
   "cell_type": "code",
   "execution_count": 14,
   "id": "3df59bbf",
   "metadata": {},
   "outputs": [
    {
     "data": {
      "text/plain": [
       "array(['Accessories', 'Clothing', 'Bikes'], dtype=object)"
      ]
     },
     "execution_count": 14,
     "metadata": {},
     "output_type": "execute_result"
    }
   ],
   "source": [
    "#The product Categories in the dataset\n",
    "\n",
    "df['Product_Category'].unique()"
   ]
  },
  {
   "cell_type": "code",
   "execution_count": 15,
   "id": "e0764f13",
   "metadata": {},
   "outputs": [
    {
     "data": {
      "text/plain": [
       "array(['Bike Racks', 'Bike Stands', 'Bottles and Cages', 'Caps',\n",
       "       'Cleaners', 'Fenders', 'Gloves', 'Helmets', 'Hydration Packs',\n",
       "       'Jerseys', 'Mountain Bikes', 'Road Bikes', 'Shorts', 'Socks',\n",
       "       'Tires and Tubes', 'Touring Bikes', 'Vests'], dtype=object)"
      ]
     },
     "execution_count": 15,
     "metadata": {},
     "output_type": "execute_result"
    }
   ],
   "source": [
    "#The sub_categories in the Dataset\n",
    "\n",
    "df['Sub_Category'].unique()"
   ]
  },
  {
   "cell_type": "code",
   "execution_count": 16,
   "id": "33ff0389",
   "metadata": {},
   "outputs": [
    {
     "data": {
      "text/plain": [
       "array(['Hitch Rack - 4-Bike', 'All-Purpose Bike Stand',\n",
       "       'Mountain Bottle Cage', 'Water Bottle - 30 oz.',\n",
       "       'Road Bottle Cage', 'AWC Logo Cap', 'Bike Wash - Dissolver',\n",
       "       'Fender Set - Mountain', 'Half-Finger Gloves, L',\n",
       "       'Half-Finger Gloves, M', 'Half-Finger Gloves, S',\n",
       "       'Sport-100 Helmet, Black', 'Sport-100 Helmet, Red',\n",
       "       'Sport-100 Helmet, Blue', 'Hydration Pack - 70 oz.',\n",
       "       'Short-Sleeve Classic Jersey, XL',\n",
       "       'Short-Sleeve Classic Jersey, L', 'Short-Sleeve Classic Jersey, M',\n",
       "       'Short-Sleeve Classic Jersey, S', 'Long-Sleeve Logo Jersey, M',\n",
       "       'Long-Sleeve Logo Jersey, XL', 'Long-Sleeve Logo Jersey, L',\n",
       "       'Long-Sleeve Logo Jersey, S', 'Mountain-100 Silver, 38',\n",
       "       'Mountain-100 Silver, 44', 'Mountain-100 Black, 48',\n",
       "       'Mountain-100 Silver, 48', 'Mountain-100 Black, 38',\n",
       "       'Mountain-200 Silver, 38', 'Mountain-100 Black, 44',\n",
       "       'Mountain-100 Silver, 42', 'Mountain-200 Black, 46',\n",
       "       'Mountain-200 Silver, 42', 'Mountain-200 Silver, 46',\n",
       "       'Mountain-200 Black, 38', 'Mountain-100 Black, 42',\n",
       "       'Mountain-200 Black, 42', 'Mountain-400-W Silver, 46',\n",
       "       'Mountain-500 Silver, 40', 'Mountain-500 Silver, 44',\n",
       "       'Mountain-500 Black, 48', 'Mountain-500 Black, 40',\n",
       "       'Mountain-400-W Silver, 42', 'Mountain-500 Silver, 52',\n",
       "       'Mountain-500 Black, 52', 'Mountain-500 Silver, 42',\n",
       "       'Mountain-500 Black, 44', 'Mountain-500 Silver, 48',\n",
       "       'Mountain-400-W Silver, 38', 'Mountain-400-W Silver, 40',\n",
       "       'Mountain-500 Black, 42', 'Road-150 Red, 48', 'Road-150 Red, 62',\n",
       "       'Road-750 Black, 48', 'Road-750 Black, 58', 'Road-750 Black, 52',\n",
       "       'Road-150 Red, 52', 'Road-150 Red, 44', 'Road-150 Red, 56',\n",
       "       'Road-750 Black, 44', 'Road-350-W Yellow, 40',\n",
       "       'Road-350-W Yellow, 42', 'Road-250 Black, 44',\n",
       "       'Road-250 Black, 48', 'Road-350-W Yellow, 48',\n",
       "       'Road-550-W Yellow, 44', 'Road-550-W Yellow, 38',\n",
       "       'Road-250 Black, 52', 'Road-550-W Yellow, 48', 'Road-250 Red, 58',\n",
       "       'Road-250 Black, 58', 'Road-250 Red, 52', 'Road-250 Red, 48',\n",
       "       'Road-250 Red, 44', 'Road-550-W Yellow, 42',\n",
       "       'Road-550-W Yellow, 40', 'Road-650 Red, 48', 'Road-650 Red, 60',\n",
       "       'Road-650 Black, 48', 'Road-350-W Yellow, 44', 'Road-650 Red, 52',\n",
       "       'Road-650 Black, 44', 'Road-650 Red, 62', 'Road-650 Red, 58',\n",
       "       'Road-650 Black, 60', 'Road-650 Black, 58', 'Road-650 Black, 52',\n",
       "       'Road-650 Black, 62', 'Road-650 Red, 44',\n",
       "       \"Women's Mountain Shorts, M\", \"Women's Mountain Shorts, S\",\n",
       "       \"Women's Mountain Shorts, L\", 'Racing Socks, L', 'Racing Socks, M',\n",
       "       'Mountain Tire Tube', 'Touring Tire Tube', 'Patch Kit/8 Patches',\n",
       "       'HL Mountain Tire', 'LL Mountain Tire', 'Road Tire Tube',\n",
       "       'LL Road Tire', 'Touring Tire', 'ML Mountain Tire', 'HL Road Tire',\n",
       "       'ML Road Tire', 'Touring-1000 Yellow, 50', 'Touring-1000 Blue, 46',\n",
       "       'Touring-1000 Yellow, 60', 'Touring-1000 Blue, 50',\n",
       "       'Touring-3000 Yellow, 50', 'Touring-3000 Blue, 54',\n",
       "       'Touring-3000 Blue, 58', 'Touring-3000 Yellow, 44',\n",
       "       'Touring-3000 Yellow, 54', 'Touring-3000 Blue, 62',\n",
       "       'Touring-3000 Blue, 44', 'Touring-1000 Blue, 54',\n",
       "       'Touring-1000 Yellow, 46', 'Touring-1000 Blue, 60',\n",
       "       'Touring-3000 Yellow, 62', 'Touring-1000 Yellow, 54',\n",
       "       'Touring-2000 Blue, 54', 'Touring-3000 Blue, 50',\n",
       "       'Touring-3000 Yellow, 58', 'Touring-2000 Blue, 46',\n",
       "       'Touring-2000 Blue, 50', 'Touring-2000 Blue, 60',\n",
       "       'Classic Vest, L', 'Classic Vest, M', 'Classic Vest, S'],\n",
       "      dtype=object)"
      ]
     },
     "execution_count": 16,
     "metadata": {},
     "output_type": "execute_result"
    }
   ],
   "source": [
    "#The products in the dataset\n",
    "\n",
    "df['Product'].unique()"
   ]
  },
  {
   "cell_type": "markdown",
   "id": "bb9a4e15",
   "metadata": {},
   "source": [
    "## Data Cleaning"
   ]
  },
  {
   "cell_type": "code",
   "execution_count": 17,
   "id": "b6b64f87",
   "metadata": {},
   "outputs": [],
   "source": [
    "#Dropping the Duplicate rows\n",
    "\n",
    "df.drop_duplicates(inplace=True)\n"
   ]
  },
  {
   "cell_type": "code",
   "execution_count": 18,
   "id": "7f6fda77",
   "metadata": {},
   "outputs": [
    {
     "data": {
      "text/plain": [
       "(112036, 18)"
      ]
     },
     "execution_count": 18,
     "metadata": {},
     "output_type": "execute_result"
    }
   ],
   "source": [
    "#Checking the new shape(number of rows and columns) after dropping the duplicate rows\n",
    "\n",
    "df.shape"
   ]
  },
  {
   "cell_type": "code",
   "execution_count": 19,
   "id": "c0a1c75f",
   "metadata": {},
   "outputs": [
    {
     "data": {
      "text/plain": [
       "0"
      ]
     },
     "execution_count": 19,
     "metadata": {},
     "output_type": "execute_result"
    }
   ],
   "source": [
    "df.duplicated().sum()"
   ]
  },
  {
   "cell_type": "code",
   "execution_count": 20,
   "id": "5c94ab8a",
   "metadata": {},
   "outputs": [],
   "source": [
    "#Changing column names to Lower case\n",
    "df.columns=df.columns.str.lower()\n"
   ]
  },
  {
   "cell_type": "code",
   "execution_count": 21,
   "id": "5897cb9d",
   "metadata": {},
   "outputs": [
    {
     "data": {
      "text/plain": [
       "Index(['date', 'day', 'month', 'year', 'customer_age', 'age_group',\n",
       "       'customer_gender', 'country', 'state', 'product_category',\n",
       "       'sub_category', 'product', 'order_quantity', 'unit_cost', 'unit_price',\n",
       "       'profit', 'cost', 'revenue'],\n",
       "      dtype='object')"
      ]
     },
     "execution_count": 21,
     "metadata": {},
     "output_type": "execute_result"
    }
   ],
   "source": [
    "df.columns"
   ]
  },
  {
   "cell_type": "code",
   "execution_count": 22,
   "id": "28863abe",
   "metadata": {},
   "outputs": [
    {
     "data": {
      "text/plain": [
       "array(['M', 'F'], dtype=object)"
      ]
     },
     "execution_count": 22,
     "metadata": {},
     "output_type": "execute_result"
    }
   ],
   "source": [
    "df['customer_gender'].unique()"
   ]
  },
  {
   "cell_type": "code",
   "execution_count": 23,
   "id": "c2770752",
   "metadata": {},
   "outputs": [],
   "source": [
    "#Renaming the customers gender\n",
    "\n",
    "df['customer_gender'].replace('M', 'Male', inplace=True)\n",
    "df['customer_gender'].replace('F', 'Female', inplace=True)"
   ]
  },
  {
   "cell_type": "code",
   "execution_count": 24,
   "id": "01eef8a3",
   "metadata": {},
   "outputs": [
    {
     "data": {
      "text/html": [
       "<div>\n",
       "<style scoped>\n",
       "    .dataframe tbody tr th:only-of-type {\n",
       "        vertical-align: middle;\n",
       "    }\n",
       "\n",
       "    .dataframe tbody tr th {\n",
       "        vertical-align: top;\n",
       "    }\n",
       "\n",
       "    .dataframe thead th {\n",
       "        text-align: right;\n",
       "    }\n",
       "</style>\n",
       "<table border=\"1\" class=\"dataframe\">\n",
       "  <thead>\n",
       "    <tr style=\"text-align: right;\">\n",
       "      <th></th>\n",
       "      <th>date</th>\n",
       "      <th>day</th>\n",
       "      <th>month</th>\n",
       "      <th>year</th>\n",
       "      <th>customer_age</th>\n",
       "      <th>age_group</th>\n",
       "      <th>customer_gender</th>\n",
       "      <th>country</th>\n",
       "      <th>state</th>\n",
       "      <th>product_category</th>\n",
       "      <th>sub_category</th>\n",
       "      <th>product</th>\n",
       "      <th>order_quantity</th>\n",
       "      <th>unit_cost</th>\n",
       "      <th>unit_price</th>\n",
       "      <th>profit</th>\n",
       "      <th>cost</th>\n",
       "      <th>revenue</th>\n",
       "    </tr>\n",
       "  </thead>\n",
       "  <tbody>\n",
       "    <tr>\n",
       "      <th>0</th>\n",
       "      <td>2013-11-26</td>\n",
       "      <td>26</td>\n",
       "      <td>November</td>\n",
       "      <td>2013</td>\n",
       "      <td>19</td>\n",
       "      <td>Youth (&lt;25)</td>\n",
       "      <td>Male</td>\n",
       "      <td>Canada</td>\n",
       "      <td>British Columbia</td>\n",
       "      <td>Accessories</td>\n",
       "      <td>Bike Racks</td>\n",
       "      <td>Hitch Rack - 4-Bike</td>\n",
       "      <td>8</td>\n",
       "      <td>45</td>\n",
       "      <td>120</td>\n",
       "      <td>590</td>\n",
       "      <td>360</td>\n",
       "      <td>950</td>\n",
       "    </tr>\n",
       "    <tr>\n",
       "      <th>1</th>\n",
       "      <td>2015-11-26</td>\n",
       "      <td>26</td>\n",
       "      <td>November</td>\n",
       "      <td>2015</td>\n",
       "      <td>19</td>\n",
       "      <td>Youth (&lt;25)</td>\n",
       "      <td>Male</td>\n",
       "      <td>Canada</td>\n",
       "      <td>British Columbia</td>\n",
       "      <td>Accessories</td>\n",
       "      <td>Bike Racks</td>\n",
       "      <td>Hitch Rack - 4-Bike</td>\n",
       "      <td>8</td>\n",
       "      <td>45</td>\n",
       "      <td>120</td>\n",
       "      <td>590</td>\n",
       "      <td>360</td>\n",
       "      <td>950</td>\n",
       "    </tr>\n",
       "    <tr>\n",
       "      <th>2</th>\n",
       "      <td>2014-03-23</td>\n",
       "      <td>23</td>\n",
       "      <td>March</td>\n",
       "      <td>2014</td>\n",
       "      <td>49</td>\n",
       "      <td>Adults (35-64)</td>\n",
       "      <td>Male</td>\n",
       "      <td>Australia</td>\n",
       "      <td>New South Wales</td>\n",
       "      <td>Accessories</td>\n",
       "      <td>Bike Racks</td>\n",
       "      <td>Hitch Rack - 4-Bike</td>\n",
       "      <td>23</td>\n",
       "      <td>45</td>\n",
       "      <td>120</td>\n",
       "      <td>1366</td>\n",
       "      <td>1035</td>\n",
       "      <td>2401</td>\n",
       "    </tr>\n",
       "    <tr>\n",
       "      <th>3</th>\n",
       "      <td>2016-03-23</td>\n",
       "      <td>23</td>\n",
       "      <td>March</td>\n",
       "      <td>2016</td>\n",
       "      <td>49</td>\n",
       "      <td>Adults (35-64)</td>\n",
       "      <td>Male</td>\n",
       "      <td>Australia</td>\n",
       "      <td>New South Wales</td>\n",
       "      <td>Accessories</td>\n",
       "      <td>Bike Racks</td>\n",
       "      <td>Hitch Rack - 4-Bike</td>\n",
       "      <td>20</td>\n",
       "      <td>45</td>\n",
       "      <td>120</td>\n",
       "      <td>1188</td>\n",
       "      <td>900</td>\n",
       "      <td>2088</td>\n",
       "    </tr>\n",
       "    <tr>\n",
       "      <th>4</th>\n",
       "      <td>2014-05-15</td>\n",
       "      <td>15</td>\n",
       "      <td>May</td>\n",
       "      <td>2014</td>\n",
       "      <td>47</td>\n",
       "      <td>Adults (35-64)</td>\n",
       "      <td>Female</td>\n",
       "      <td>Australia</td>\n",
       "      <td>New South Wales</td>\n",
       "      <td>Accessories</td>\n",
       "      <td>Bike Racks</td>\n",
       "      <td>Hitch Rack - 4-Bike</td>\n",
       "      <td>4</td>\n",
       "      <td>45</td>\n",
       "      <td>120</td>\n",
       "      <td>238</td>\n",
       "      <td>180</td>\n",
       "      <td>418</td>\n",
       "    </tr>\n",
       "  </tbody>\n",
       "</table>\n",
       "</div>"
      ],
      "text/plain": [
       "         date  day     month  year  customer_age       age_group  \\\n",
       "0  2013-11-26   26  November  2013            19     Youth (<25)   \n",
       "1  2015-11-26   26  November  2015            19     Youth (<25)   \n",
       "2  2014-03-23   23     March  2014            49  Adults (35-64)   \n",
       "3  2016-03-23   23     March  2016            49  Adults (35-64)   \n",
       "4  2014-05-15   15       May  2014            47  Adults (35-64)   \n",
       "\n",
       "  customer_gender    country             state product_category sub_category  \\\n",
       "0            Male     Canada  British Columbia      Accessories   Bike Racks   \n",
       "1            Male     Canada  British Columbia      Accessories   Bike Racks   \n",
       "2            Male  Australia   New South Wales      Accessories   Bike Racks   \n",
       "3            Male  Australia   New South Wales      Accessories   Bike Racks   \n",
       "4          Female  Australia   New South Wales      Accessories   Bike Racks   \n",
       "\n",
       "               product  order_quantity  unit_cost  unit_price  profit  cost  \\\n",
       "0  Hitch Rack - 4-Bike               8         45         120     590   360   \n",
       "1  Hitch Rack - 4-Bike               8         45         120     590   360   \n",
       "2  Hitch Rack - 4-Bike              23         45         120    1366  1035   \n",
       "3  Hitch Rack - 4-Bike              20         45         120    1188   900   \n",
       "4  Hitch Rack - 4-Bike               4         45         120     238   180   \n",
       "\n",
       "   revenue  \n",
       "0      950  \n",
       "1      950  \n",
       "2     2401  \n",
       "3     2088  \n",
       "4      418  "
      ]
     },
     "execution_count": 24,
     "metadata": {},
     "output_type": "execute_result"
    }
   ],
   "source": [
    "df.head()"
   ]
  },
  {
   "cell_type": "code",
   "execution_count": 25,
   "id": "019b8aa9",
   "metadata": {},
   "outputs": [],
   "source": [
    "#Dropping the day column and also the profit, cost and Revenue columns to recalculate them due to the miscalculations noticed in these columns\n",
    "\n",
    "\n",
    "del_columns=['day', 'profit', 'cost', 'revenue']\n",
    "df.drop(del_columns, axis=1, inplace=True)"
   ]
  },
  {
   "cell_type": "code",
   "execution_count": 26,
   "id": "872f9297",
   "metadata": {},
   "outputs": [
    {
     "data": {
      "text/html": [
       "<div>\n",
       "<style scoped>\n",
       "    .dataframe tbody tr th:only-of-type {\n",
       "        vertical-align: middle;\n",
       "    }\n",
       "\n",
       "    .dataframe tbody tr th {\n",
       "        vertical-align: top;\n",
       "    }\n",
       "\n",
       "    .dataframe thead th {\n",
       "        text-align: right;\n",
       "    }\n",
       "</style>\n",
       "<table border=\"1\" class=\"dataframe\">\n",
       "  <thead>\n",
       "    <tr style=\"text-align: right;\">\n",
       "      <th></th>\n",
       "      <th>date</th>\n",
       "      <th>month</th>\n",
       "      <th>year</th>\n",
       "      <th>customer_age</th>\n",
       "      <th>age_group</th>\n",
       "      <th>customer_gender</th>\n",
       "      <th>country</th>\n",
       "      <th>state</th>\n",
       "      <th>product_category</th>\n",
       "      <th>sub_category</th>\n",
       "      <th>product</th>\n",
       "      <th>order_quantity</th>\n",
       "      <th>unit_cost</th>\n",
       "      <th>unit_price</th>\n",
       "    </tr>\n",
       "  </thead>\n",
       "  <tbody>\n",
       "    <tr>\n",
       "      <th>0</th>\n",
       "      <td>2013-11-26</td>\n",
       "      <td>November</td>\n",
       "      <td>2013</td>\n",
       "      <td>19</td>\n",
       "      <td>Youth (&lt;25)</td>\n",
       "      <td>Male</td>\n",
       "      <td>Canada</td>\n",
       "      <td>British Columbia</td>\n",
       "      <td>Accessories</td>\n",
       "      <td>Bike Racks</td>\n",
       "      <td>Hitch Rack - 4-Bike</td>\n",
       "      <td>8</td>\n",
       "      <td>45</td>\n",
       "      <td>120</td>\n",
       "    </tr>\n",
       "    <tr>\n",
       "      <th>1</th>\n",
       "      <td>2015-11-26</td>\n",
       "      <td>November</td>\n",
       "      <td>2015</td>\n",
       "      <td>19</td>\n",
       "      <td>Youth (&lt;25)</td>\n",
       "      <td>Male</td>\n",
       "      <td>Canada</td>\n",
       "      <td>British Columbia</td>\n",
       "      <td>Accessories</td>\n",
       "      <td>Bike Racks</td>\n",
       "      <td>Hitch Rack - 4-Bike</td>\n",
       "      <td>8</td>\n",
       "      <td>45</td>\n",
       "      <td>120</td>\n",
       "    </tr>\n",
       "    <tr>\n",
       "      <th>2</th>\n",
       "      <td>2014-03-23</td>\n",
       "      <td>March</td>\n",
       "      <td>2014</td>\n",
       "      <td>49</td>\n",
       "      <td>Adults (35-64)</td>\n",
       "      <td>Male</td>\n",
       "      <td>Australia</td>\n",
       "      <td>New South Wales</td>\n",
       "      <td>Accessories</td>\n",
       "      <td>Bike Racks</td>\n",
       "      <td>Hitch Rack - 4-Bike</td>\n",
       "      <td>23</td>\n",
       "      <td>45</td>\n",
       "      <td>120</td>\n",
       "    </tr>\n",
       "    <tr>\n",
       "      <th>3</th>\n",
       "      <td>2016-03-23</td>\n",
       "      <td>March</td>\n",
       "      <td>2016</td>\n",
       "      <td>49</td>\n",
       "      <td>Adults (35-64)</td>\n",
       "      <td>Male</td>\n",
       "      <td>Australia</td>\n",
       "      <td>New South Wales</td>\n",
       "      <td>Accessories</td>\n",
       "      <td>Bike Racks</td>\n",
       "      <td>Hitch Rack - 4-Bike</td>\n",
       "      <td>20</td>\n",
       "      <td>45</td>\n",
       "      <td>120</td>\n",
       "    </tr>\n",
       "    <tr>\n",
       "      <th>4</th>\n",
       "      <td>2014-05-15</td>\n",
       "      <td>May</td>\n",
       "      <td>2014</td>\n",
       "      <td>47</td>\n",
       "      <td>Adults (35-64)</td>\n",
       "      <td>Female</td>\n",
       "      <td>Australia</td>\n",
       "      <td>New South Wales</td>\n",
       "      <td>Accessories</td>\n",
       "      <td>Bike Racks</td>\n",
       "      <td>Hitch Rack - 4-Bike</td>\n",
       "      <td>4</td>\n",
       "      <td>45</td>\n",
       "      <td>120</td>\n",
       "    </tr>\n",
       "  </tbody>\n",
       "</table>\n",
       "</div>"
      ],
      "text/plain": [
       "         date     month  year  customer_age       age_group customer_gender  \\\n",
       "0  2013-11-26  November  2013            19     Youth (<25)            Male   \n",
       "1  2015-11-26  November  2015            19     Youth (<25)            Male   \n",
       "2  2014-03-23     March  2014            49  Adults (35-64)            Male   \n",
       "3  2016-03-23     March  2016            49  Adults (35-64)            Male   \n",
       "4  2014-05-15       May  2014            47  Adults (35-64)          Female   \n",
       "\n",
       "     country             state product_category sub_category  \\\n",
       "0     Canada  British Columbia      Accessories   Bike Racks   \n",
       "1     Canada  British Columbia      Accessories   Bike Racks   \n",
       "2  Australia   New South Wales      Accessories   Bike Racks   \n",
       "3  Australia   New South Wales      Accessories   Bike Racks   \n",
       "4  Australia   New South Wales      Accessories   Bike Racks   \n",
       "\n",
       "               product  order_quantity  unit_cost  unit_price  \n",
       "0  Hitch Rack - 4-Bike               8         45         120  \n",
       "1  Hitch Rack - 4-Bike               8         45         120  \n",
       "2  Hitch Rack - 4-Bike              23         45         120  \n",
       "3  Hitch Rack - 4-Bike              20         45         120  \n",
       "4  Hitch Rack - 4-Bike               4         45         120  "
      ]
     },
     "execution_count": 26,
     "metadata": {},
     "output_type": "execute_result"
    }
   ],
   "source": [
    "df.head()"
   ]
  },
  {
   "cell_type": "code",
   "execution_count": 27,
   "id": "98d636b8",
   "metadata": {},
   "outputs": [],
   "source": [
    "#Adding new columns\n",
    "\n",
    "df['total_cost']= df['order_quantity'] * df['unit_cost']\n",
    "df['revenue']= df['order_quantity'] * df['unit_price']\n",
    "df['profit']= df['revenue'] - df['total_cost']"
   ]
  },
  {
   "cell_type": "code",
   "execution_count": 28,
   "id": "35f51043",
   "metadata": {},
   "outputs": [
    {
     "data": {
      "text/html": [
       "<div>\n",
       "<style scoped>\n",
       "    .dataframe tbody tr th:only-of-type {\n",
       "        vertical-align: middle;\n",
       "    }\n",
       "\n",
       "    .dataframe tbody tr th {\n",
       "        vertical-align: top;\n",
       "    }\n",
       "\n",
       "    .dataframe thead th {\n",
       "        text-align: right;\n",
       "    }\n",
       "</style>\n",
       "<table border=\"1\" class=\"dataframe\">\n",
       "  <thead>\n",
       "    <tr style=\"text-align: right;\">\n",
       "      <th></th>\n",
       "      <th>date</th>\n",
       "      <th>month</th>\n",
       "      <th>year</th>\n",
       "      <th>customer_age</th>\n",
       "      <th>age_group</th>\n",
       "      <th>customer_gender</th>\n",
       "      <th>country</th>\n",
       "      <th>state</th>\n",
       "      <th>product_category</th>\n",
       "      <th>sub_category</th>\n",
       "      <th>product</th>\n",
       "      <th>order_quantity</th>\n",
       "      <th>unit_cost</th>\n",
       "      <th>unit_price</th>\n",
       "      <th>total_cost</th>\n",
       "      <th>revenue</th>\n",
       "      <th>profit</th>\n",
       "    </tr>\n",
       "  </thead>\n",
       "  <tbody>\n",
       "    <tr>\n",
       "      <th>0</th>\n",
       "      <td>2013-11-26</td>\n",
       "      <td>November</td>\n",
       "      <td>2013</td>\n",
       "      <td>19</td>\n",
       "      <td>Youth (&lt;25)</td>\n",
       "      <td>Male</td>\n",
       "      <td>Canada</td>\n",
       "      <td>British Columbia</td>\n",
       "      <td>Accessories</td>\n",
       "      <td>Bike Racks</td>\n",
       "      <td>Hitch Rack - 4-Bike</td>\n",
       "      <td>8</td>\n",
       "      <td>45</td>\n",
       "      <td>120</td>\n",
       "      <td>360</td>\n",
       "      <td>960</td>\n",
       "      <td>600</td>\n",
       "    </tr>\n",
       "    <tr>\n",
       "      <th>1</th>\n",
       "      <td>2015-11-26</td>\n",
       "      <td>November</td>\n",
       "      <td>2015</td>\n",
       "      <td>19</td>\n",
       "      <td>Youth (&lt;25)</td>\n",
       "      <td>Male</td>\n",
       "      <td>Canada</td>\n",
       "      <td>British Columbia</td>\n",
       "      <td>Accessories</td>\n",
       "      <td>Bike Racks</td>\n",
       "      <td>Hitch Rack - 4-Bike</td>\n",
       "      <td>8</td>\n",
       "      <td>45</td>\n",
       "      <td>120</td>\n",
       "      <td>360</td>\n",
       "      <td>960</td>\n",
       "      <td>600</td>\n",
       "    </tr>\n",
       "    <tr>\n",
       "      <th>2</th>\n",
       "      <td>2014-03-23</td>\n",
       "      <td>March</td>\n",
       "      <td>2014</td>\n",
       "      <td>49</td>\n",
       "      <td>Adults (35-64)</td>\n",
       "      <td>Male</td>\n",
       "      <td>Australia</td>\n",
       "      <td>New South Wales</td>\n",
       "      <td>Accessories</td>\n",
       "      <td>Bike Racks</td>\n",
       "      <td>Hitch Rack - 4-Bike</td>\n",
       "      <td>23</td>\n",
       "      <td>45</td>\n",
       "      <td>120</td>\n",
       "      <td>1035</td>\n",
       "      <td>2760</td>\n",
       "      <td>1725</td>\n",
       "    </tr>\n",
       "    <tr>\n",
       "      <th>3</th>\n",
       "      <td>2016-03-23</td>\n",
       "      <td>March</td>\n",
       "      <td>2016</td>\n",
       "      <td>49</td>\n",
       "      <td>Adults (35-64)</td>\n",
       "      <td>Male</td>\n",
       "      <td>Australia</td>\n",
       "      <td>New South Wales</td>\n",
       "      <td>Accessories</td>\n",
       "      <td>Bike Racks</td>\n",
       "      <td>Hitch Rack - 4-Bike</td>\n",
       "      <td>20</td>\n",
       "      <td>45</td>\n",
       "      <td>120</td>\n",
       "      <td>900</td>\n",
       "      <td>2400</td>\n",
       "      <td>1500</td>\n",
       "    </tr>\n",
       "    <tr>\n",
       "      <th>4</th>\n",
       "      <td>2014-05-15</td>\n",
       "      <td>May</td>\n",
       "      <td>2014</td>\n",
       "      <td>47</td>\n",
       "      <td>Adults (35-64)</td>\n",
       "      <td>Female</td>\n",
       "      <td>Australia</td>\n",
       "      <td>New South Wales</td>\n",
       "      <td>Accessories</td>\n",
       "      <td>Bike Racks</td>\n",
       "      <td>Hitch Rack - 4-Bike</td>\n",
       "      <td>4</td>\n",
       "      <td>45</td>\n",
       "      <td>120</td>\n",
       "      <td>180</td>\n",
       "      <td>480</td>\n",
       "      <td>300</td>\n",
       "    </tr>\n",
       "  </tbody>\n",
       "</table>\n",
       "</div>"
      ],
      "text/plain": [
       "         date     month  year  customer_age       age_group customer_gender  \\\n",
       "0  2013-11-26  November  2013            19     Youth (<25)            Male   \n",
       "1  2015-11-26  November  2015            19     Youth (<25)            Male   \n",
       "2  2014-03-23     March  2014            49  Adults (35-64)            Male   \n",
       "3  2016-03-23     March  2016            49  Adults (35-64)            Male   \n",
       "4  2014-05-15       May  2014            47  Adults (35-64)          Female   \n",
       "\n",
       "     country             state product_category sub_category  \\\n",
       "0     Canada  British Columbia      Accessories   Bike Racks   \n",
       "1     Canada  British Columbia      Accessories   Bike Racks   \n",
       "2  Australia   New South Wales      Accessories   Bike Racks   \n",
       "3  Australia   New South Wales      Accessories   Bike Racks   \n",
       "4  Australia   New South Wales      Accessories   Bike Racks   \n",
       "\n",
       "               product  order_quantity  unit_cost  unit_price  total_cost  \\\n",
       "0  Hitch Rack - 4-Bike               8         45         120         360   \n",
       "1  Hitch Rack - 4-Bike               8         45         120         360   \n",
       "2  Hitch Rack - 4-Bike              23         45         120        1035   \n",
       "3  Hitch Rack - 4-Bike              20         45         120         900   \n",
       "4  Hitch Rack - 4-Bike               4         45         120         180   \n",
       "\n",
       "   revenue  profit  \n",
       "0      960     600  \n",
       "1      960     600  \n",
       "2     2760    1725  \n",
       "3     2400    1500  \n",
       "4      480     300  "
      ]
     },
     "execution_count": 28,
     "metadata": {},
     "output_type": "execute_result"
    }
   ],
   "source": [
    "df.head()"
   ]
  },
  {
   "cell_type": "code",
   "execution_count": 29,
   "id": "33c85496",
   "metadata": {},
   "outputs": [
    {
     "data": {
      "text/plain": [
       "date                object\n",
       "month               object\n",
       "year                 int64\n",
       "customer_age         int64\n",
       "age_group           object\n",
       "customer_gender     object\n",
       "country             object\n",
       "state               object\n",
       "product_category    object\n",
       "sub_category        object\n",
       "product             object\n",
       "order_quantity       int64\n",
       "unit_cost            int64\n",
       "unit_price           int64\n",
       "total_cost           int64\n",
       "revenue              int64\n",
       "profit               int64\n",
       "dtype: object"
      ]
     },
     "execution_count": 29,
     "metadata": {},
     "output_type": "execute_result"
    }
   ],
   "source": [
    "df.dtypes"
   ]
  },
  {
   "cell_type": "code",
   "execution_count": 30,
   "id": "c9b68fff",
   "metadata": {},
   "outputs": [],
   "source": [
    "#Changing the date column to date format\n",
    "\n",
    "df['date'] = pd.to_datetime(df['date'])"
   ]
  },
  {
   "cell_type": "code",
   "execution_count": 31,
   "id": "c9b3261b",
   "metadata": {},
   "outputs": [
    {
     "data": {
      "text/plain": [
       "date                datetime64[ns]\n",
       "month                       object\n",
       "year                         int64\n",
       "customer_age                 int64\n",
       "age_group                   object\n",
       "customer_gender             object\n",
       "country                     object\n",
       "state                       object\n",
       "product_category            object\n",
       "sub_category                object\n",
       "product                     object\n",
       "order_quantity               int64\n",
       "unit_cost                    int64\n",
       "unit_price                   int64\n",
       "total_cost                   int64\n",
       "revenue                      int64\n",
       "profit                       int64\n",
       "dtype: object"
      ]
     },
     "execution_count": 31,
     "metadata": {},
     "output_type": "execute_result"
    }
   ],
   "source": [
    "df.dtypes"
   ]
  },
  {
   "cell_type": "code",
   "execution_count": 32,
   "id": "e1627a6c",
   "metadata": {},
   "outputs": [
    {
     "data": {
      "text/plain": [
       "date                1884\n",
       "month                 12\n",
       "year                   6\n",
       "customer_age          70\n",
       "age_group              4\n",
       "customer_gender        2\n",
       "country                6\n",
       "state                 53\n",
       "product_category       3\n",
       "sub_category          17\n",
       "product              130\n",
       "order_quantity        32\n",
       "unit_cost             34\n",
       "unit_price            36\n",
       "total_cost           360\n",
       "revenue              436\n",
       "profit               389\n",
       "dtype: int64"
      ]
     },
     "execution_count": 32,
     "metadata": {},
     "output_type": "execute_result"
    }
   ],
   "source": [
    "df.nunique()"
   ]
  },
  {
   "cell_type": "code",
   "execution_count": 33,
   "id": "12809820",
   "metadata": {},
   "outputs": [],
   "source": [
    "df.columns=df.columns.str.strip()"
   ]
  },
  {
   "cell_type": "code",
   "execution_count": 34,
   "id": "1e35b4da",
   "metadata": {},
   "outputs": [
    {
     "data": {
      "text/plain": [
       "Index(['date', 'month', 'year', 'customer_age', 'age_group', 'customer_gender',\n",
       "       'country', 'state', 'product_category', 'sub_category', 'product',\n",
       "       'order_quantity', 'unit_cost', 'unit_price', 'total_cost', 'revenue',\n",
       "       'profit'],\n",
       "      dtype='object')"
      ]
     },
     "execution_count": 34,
     "metadata": {},
     "output_type": "execute_result"
    }
   ],
   "source": [
    "df.columns"
   ]
  },
  {
   "cell_type": "markdown",
   "id": "0441994a",
   "metadata": {},
   "source": [
    "## Exploratory Data Analysis"
   ]
  },
  {
   "cell_type": "markdown",
   "id": "4c351352",
   "metadata": {},
   "source": [
    "### Age Distribution of Customers"
   ]
  },
  {
   "cell_type": "code",
   "execution_count": 35,
   "id": "a95300fc",
   "metadata": {},
   "outputs": [
    {
     "data": {
      "text/plain": [
       "Adults (35-64)          55358\n",
       "Young Adults (25-34)    38299\n",
       "Youth (<25)             17660\n",
       "Seniors (64+)             719\n",
       "Name: age_group, dtype: int64"
      ]
     },
     "execution_count": 35,
     "metadata": {},
     "output_type": "execute_result"
    }
   ],
   "source": [
    "Age= df['age_group'].value_counts()\n",
    "Age"
   ]
  },
  {
   "cell_type": "code",
   "execution_count": 36,
   "id": "90e71778",
   "metadata": {},
   "outputs": [
    {
     "data": {
      "image/png": "[encoded data removed]",
      "text/plain": [
       "<Figure size 1008x360 with 1 Axes>"
      ]
     },
     "metadata": {
      "needs_background": "light"
     },
     "output_type": "display_data"
    }
   ],
   "source": [
    "data1=list(Age.index)\n",
    "plt.figure(figsize=(14,5))\n",
    "plt.title('Age Distribution of Customers',fontsize=20)\n",
    "sns.barplot(x=data1,y=Age)\n",
    "\n",
    "for i in range(len(Age)):\n",
    "    plt.text(i,Age[i],Age[i],ha='center',va='bottom')\n",
    "    \n",
    "plt.ylabel('Total Number of Customers')\n",
    "plt.show()"
   ]
  },
  {
   "cell_type": "markdown",
   "id": "26a555fb",
   "metadata": {},
   "source": [
    "### Total Profit by Year"
   ]
  },
  {
   "cell_type": "code",
   "execution_count": 37,
   "id": "112174a3",
   "metadata": {},
   "outputs": [
    {
     "data": {
      "text/plain": [
       "year\n",
       "2011    3976543\n",
       "2012    4047960\n",
       "2013    7687922\n",
       "2014    7361372\n",
       "2015    9870012\n",
       "2016    8964246\n",
       "Name: profit, dtype: int64"
      ]
     },
     "execution_count": 37,
     "metadata": {},
     "output_type": "execute_result"
    }
   ],
   "source": [
    "year_profit= df.groupby('year')['profit'].sum()\n",
    "\n",
    "year_profit\n"
   ]
  },
  {
   "cell_type": "code",
   "execution_count": 38,
   "id": "cfb5c0ac",
   "metadata": {},
   "outputs": [
    {
     "data": {
      "image/png": "[encoded data removed]",
      "text/plain": [
       "<Figure size 720x360 with 1 Axes>"
      ]
     },
     "metadata": {
      "needs_background": "light"
     },
     "output_type": "display_data"
    }
   ],
   "source": [
    "year_profit.plot(kind='line', figsize=(10,5), fontsize=12, color='red')\n",
    "\n",
    "plt.title('Profit by year')\n",
    "plt.xlabel('Year')\n",
    "plt.ylabel('Total Profit')\n",
    "\n",
    "plt.show()\n"
   ]
  },
  {
   "cell_type": "markdown",
   "id": "78894348",
   "metadata": {},
   "source": [
    "### Total Profit by Month"
   ]
  },
  {
   "cell_type": "code",
   "execution_count": 39,
   "id": "57176286",
   "metadata": {},
   "outputs": [
    {
     "data": {
      "text/plain": [
       "month\n",
       "April        3729936\n",
       "August       2841638\n",
       "December     4459854\n",
       "February     3323903\n",
       "January      3422588\n",
       "July         2795784\n",
       "June         4395021\n",
       "March        3596522\n",
       "May          4327168\n",
       "November     3103017\n",
       "October      2997238\n",
       "September    2915386\n",
       "Name: profit, dtype: int64"
      ]
     },
     "execution_count": 39,
     "metadata": {},
     "output_type": "execute_result"
    }
   ],
   "source": [
    "month_profit=df.groupby('month')['profit'].sum()\n",
    "month_profit"
   ]
  },
  {
   "cell_type": "code",
   "execution_count": 40,
   "id": "6bc66b00",
   "metadata": {},
   "outputs": [
    {
     "data": {
      "text/html": [
       "<div>\n",
       "<style scoped>\n",
       "    .dataframe tbody tr th:only-of-type {\n",
       "        vertical-align: middle;\n",
       "    }\n",
       "\n",
       "    .dataframe tbody tr th {\n",
       "        vertical-align: top;\n",
       "    }\n",
       "\n",
       "    .dataframe thead th {\n",
       "        text-align: right;\n",
       "    }\n",
       "</style>\n",
       "<table border=\"1\" class=\"dataframe\">\n",
       "  <thead>\n",
       "    <tr style=\"text-align: right;\">\n",
       "      <th></th>\n",
       "      <th>month</th>\n",
       "      <th>profit</th>\n",
       "    </tr>\n",
       "  </thead>\n",
       "  <tbody>\n",
       "    <tr>\n",
       "      <th>0</th>\n",
       "      <td>April</td>\n",
       "      <td>3729936</td>\n",
       "    </tr>\n",
       "    <tr>\n",
       "      <th>1</th>\n",
       "      <td>August</td>\n",
       "      <td>2841638</td>\n",
       "    </tr>\n",
       "    <tr>\n",
       "      <th>2</th>\n",
       "      <td>December</td>\n",
       "      <td>4459854</td>\n",
       "    </tr>\n",
       "    <tr>\n",
       "      <th>3</th>\n",
       "      <td>February</td>\n",
       "      <td>3323903</td>\n",
       "    </tr>\n",
       "    <tr>\n",
       "      <th>4</th>\n",
       "      <td>January</td>\n",
       "      <td>3422588</td>\n",
       "    </tr>\n",
       "    <tr>\n",
       "      <th>5</th>\n",
       "      <td>July</td>\n",
       "      <td>2795784</td>\n",
       "    </tr>\n",
       "    <tr>\n",
       "      <th>6</th>\n",
       "      <td>June</td>\n",
       "      <td>4395021</td>\n",
       "    </tr>\n",
       "    <tr>\n",
       "      <th>7</th>\n",
       "      <td>March</td>\n",
       "      <td>3596522</td>\n",
       "    </tr>\n",
       "    <tr>\n",
       "      <th>8</th>\n",
       "      <td>May</td>\n",
       "      <td>4327168</td>\n",
       "    </tr>\n",
       "    <tr>\n",
       "      <th>9</th>\n",
       "      <td>November</td>\n",
       "      <td>3103017</td>\n",
       "    </tr>\n",
       "    <tr>\n",
       "      <th>10</th>\n",
       "      <td>October</td>\n",
       "      <td>2997238</td>\n",
       "    </tr>\n",
       "    <tr>\n",
       "      <th>11</th>\n",
       "      <td>September</td>\n",
       "      <td>2915386</td>\n",
       "    </tr>\n",
       "  </tbody>\n",
       "</table>\n",
       "</div>"
      ],
      "text/plain": [
       "        month   profit\n",
       "0       April  3729936\n",
       "1      August  2841638\n",
       "2    December  4459854\n",
       "3    February  3323903\n",
       "4     January  3422588\n",
       "5        July  2795784\n",
       "6        June  4395021\n",
       "7       March  3596522\n",
       "8         May  4327168\n",
       "9    November  3103017\n",
       "10    October  2997238\n",
       "11  September  2915386"
      ]
     },
     "execution_count": 40,
     "metadata": {},
     "output_type": "execute_result"
    }
   ],
   "source": [
    "#Creating a new dataframe for month and total profit\n",
    "\n",
    "month_profit=pd.DataFrame(month_profit)\n",
    "\n",
    "#Resetting to include the index\n",
    "\n",
    "month_profit=month_profit.reset_index()\n",
    "month_profit"
   ]
  },
  {
   "cell_type": "code",
   "execution_count": 41,
   "id": "7e5dfd31",
   "metadata": {},
   "outputs": [
    {
     "data": {
      "text/html": [
       "<div>\n",
       "<style scoped>\n",
       "    .dataframe tbody tr th:only-of-type {\n",
       "        vertical-align: middle;\n",
       "    }\n",
       "\n",
       "    .dataframe tbody tr th {\n",
       "        vertical-align: top;\n",
       "    }\n",
       "\n",
       "    .dataframe thead th {\n",
       "        text-align: right;\n",
       "    }\n",
       "</style>\n",
       "<table border=\"1\" class=\"dataframe\">\n",
       "  <thead>\n",
       "    <tr style=\"text-align: right;\">\n",
       "      <th></th>\n",
       "      <th>month</th>\n",
       "      <th>profit</th>\n",
       "    </tr>\n",
       "    <tr>\n",
       "      <th>month</th>\n",
       "      <th></th>\n",
       "      <th></th>\n",
       "    </tr>\n",
       "  </thead>\n",
       "  <tbody>\n",
       "    <tr>\n",
       "      <th>January</th>\n",
       "      <td>January</td>\n",
       "      <td>3422588</td>\n",
       "    </tr>\n",
       "    <tr>\n",
       "      <th>February</th>\n",
       "      <td>February</td>\n",
       "      <td>3323903</td>\n",
       "    </tr>\n",
       "    <tr>\n",
       "      <th>March</th>\n",
       "      <td>March</td>\n",
       "      <td>3596522</td>\n",
       "    </tr>\n",
       "    <tr>\n",
       "      <th>April</th>\n",
       "      <td>April</td>\n",
       "      <td>3729936</td>\n",
       "    </tr>\n",
       "    <tr>\n",
       "      <th>May</th>\n",
       "      <td>May</td>\n",
       "      <td>4327168</td>\n",
       "    </tr>\n",
       "    <tr>\n",
       "      <th>June</th>\n",
       "      <td>June</td>\n",
       "      <td>4395021</td>\n",
       "    </tr>\n",
       "    <tr>\n",
       "      <th>July</th>\n",
       "      <td>July</td>\n",
       "      <td>2795784</td>\n",
       "    </tr>\n",
       "    <tr>\n",
       "      <th>August</th>\n",
       "      <td>August</td>\n",
       "      <td>2841638</td>\n",
       "    </tr>\n",
       "    <tr>\n",
       "      <th>September</th>\n",
       "      <td>September</td>\n",
       "      <td>2915386</td>\n",
       "    </tr>\n",
       "    <tr>\n",
       "      <th>October</th>\n",
       "      <td>October</td>\n",
       "      <td>2997238</td>\n",
       "    </tr>\n",
       "    <tr>\n",
       "      <th>November</th>\n",
       "      <td>November</td>\n",
       "      <td>3103017</td>\n",
       "    </tr>\n",
       "    <tr>\n",
       "      <th>December</th>\n",
       "      <td>December</td>\n",
       "      <td>4459854</td>\n",
       "    </tr>\n",
       "  </tbody>\n",
       "</table>\n",
       "</div>"
      ],
      "text/plain": [
       "               month   profit\n",
       "month                        \n",
       "January      January  3422588\n",
       "February    February  3323903\n",
       "March          March  3596522\n",
       "April          April  3729936\n",
       "May              May  4327168\n",
       "June            June  4395021\n",
       "July            July  2795784\n",
       "August        August  2841638\n",
       "September  September  2915386\n",
       "October      October  2997238\n",
       "November    November  3103017\n",
       "December    December  4459854"
      ]
     },
     "execution_count": 41,
     "metadata": {},
     "output_type": "execute_result"
    }
   ],
   "source": [
    "sort_order=['January','February','March','April','May','June','July','August','September','October','November','December']\n",
    "month_profit.index=pd.CategoricalIndex(month_profit['month'],categories=sort_order,ordered=True)\n",
    "month_profit=month_profit.sort_index()\n",
    "month_profit"
   ]
  },
  {
   "cell_type": "code",
   "execution_count": 42,
   "id": "65abffb1",
   "metadata": {},
   "outputs": [
    {
     "data": {
      "image/png": "[encoded data removed]",
      "text/plain": [
       "<Figure size 2160x576 with 1 Axes>"
      ]
     },
     "metadata": {
      "needs_background": "light"
     },
     "output_type": "display_data"
    }
   ],
   "source": [
    "month_profit.plot(kind='bar',figsize=(30,8),fontsize=20,color='red')\n",
    "plt.title('Profit by Month',fontsize=20)\n",
    "plt.xlabel('Month',fontsize=20)\n",
    "plt.ylabel('Total Profit',fontsize=20)\n",
    "plt.show()"
   ]
  },
  {
   "cell_type": "markdown",
   "id": "60a1706e",
   "metadata": {},
   "source": [
    "### Average Orders by Month"
   ]
  },
  {
   "cell_type": "code",
   "execution_count": 43,
   "id": "a73fd742",
   "metadata": {},
   "outputs": [
    {
     "data": {
      "text/html": [
       "<div>\n",
       "<style scoped>\n",
       "    .dataframe tbody tr th:only-of-type {\n",
       "        vertical-align: middle;\n",
       "    }\n",
       "\n",
       "    .dataframe tbody tr th {\n",
       "        vertical-align: top;\n",
       "    }\n",
       "\n",
       "    .dataframe thead th {\n",
       "        text-align: right;\n",
       "    }\n",
       "</style>\n",
       "<table border=\"1\" class=\"dataframe\">\n",
       "  <thead>\n",
       "    <tr style=\"text-align: right;\">\n",
       "      <th></th>\n",
       "      <th>date</th>\n",
       "      <th>month</th>\n",
       "      <th>year</th>\n",
       "      <th>customer_age</th>\n",
       "      <th>age_group</th>\n",
       "      <th>customer_gender</th>\n",
       "      <th>country</th>\n",
       "      <th>state</th>\n",
       "      <th>product_category</th>\n",
       "      <th>sub_category</th>\n",
       "      <th>product</th>\n",
       "      <th>order_quantity</th>\n",
       "      <th>unit_cost</th>\n",
       "      <th>unit_price</th>\n",
       "      <th>total_cost</th>\n",
       "      <th>revenue</th>\n",
       "      <th>profit</th>\n",
       "    </tr>\n",
       "  </thead>\n",
       "  <tbody>\n",
       "    <tr>\n",
       "      <th>0</th>\n",
       "      <td>2013-11-26</td>\n",
       "      <td>November</td>\n",
       "      <td>2013</td>\n",
       "      <td>19</td>\n",
       "      <td>Youth (&lt;25)</td>\n",
       "      <td>Male</td>\n",
       "      <td>Canada</td>\n",
       "      <td>British Columbia</td>\n",
       "      <td>Accessories</td>\n",
       "      <td>Bike Racks</td>\n",
       "      <td>Hitch Rack - 4-Bike</td>\n",
       "      <td>8</td>\n",
       "      <td>45</td>\n",
       "      <td>120</td>\n",
       "      <td>360</td>\n",
       "      <td>960</td>\n",
       "      <td>600</td>\n",
       "    </tr>\n",
       "    <tr>\n",
       "      <th>1</th>\n",
       "      <td>2015-11-26</td>\n",
       "      <td>November</td>\n",
       "      <td>2015</td>\n",
       "      <td>19</td>\n",
       "      <td>Youth (&lt;25)</td>\n",
       "      <td>Male</td>\n",
       "      <td>Canada</td>\n",
       "      <td>British Columbia</td>\n",
       "      <td>Accessories</td>\n",
       "      <td>Bike Racks</td>\n",
       "      <td>Hitch Rack - 4-Bike</td>\n",
       "      <td>8</td>\n",
       "      <td>45</td>\n",
       "      <td>120</td>\n",
       "      <td>360</td>\n",
       "      <td>960</td>\n",
       "      <td>600</td>\n",
       "    </tr>\n",
       "  </tbody>\n",
       "</table>\n",
       "</div>"
      ],
      "text/plain": [
       "        date     month  year  customer_age    age_group customer_gender  \\\n",
       "0 2013-11-26  November  2013            19  Youth (<25)            Male   \n",
       "1 2015-11-26  November  2015            19  Youth (<25)            Male   \n",
       "\n",
       "  country             state product_category sub_category  \\\n",
       "0  Canada  British Columbia      Accessories   Bike Racks   \n",
       "1  Canada  British Columbia      Accessories   Bike Racks   \n",
       "\n",
       "               product  order_quantity  unit_cost  unit_price  total_cost  \\\n",
       "0  Hitch Rack - 4-Bike               8         45         120         360   \n",
       "1  Hitch Rack - 4-Bike               8         45         120         360   \n",
       "\n",
       "   revenue  profit  \n",
       "0      960     600  \n",
       "1      960     600  "
      ]
     },
     "execution_count": 43,
     "metadata": {},
     "output_type": "execute_result"
    }
   ],
   "source": [
    "df.head(2)"
   ]
  },
  {
   "cell_type": "code",
   "execution_count": 44,
   "id": "bb05325b",
   "metadata": {},
   "outputs": [
    {
     "data": {
      "text/plain": [
       "month\n",
       "September    12.629\n",
       "August       12.558\n",
       "November     12.431\n",
       "October      12.404\n",
       "July         12.028\n",
       "January      11.896\n",
       "December     11.892\n",
       "April        11.630\n",
       "February     11.625\n",
       "March        11.488\n",
       "June         11.459\n",
       "May          11.309\n",
       "Name: order_quantity, dtype: float64"
      ]
     },
     "execution_count": 44,
     "metadata": {},
     "output_type": "execute_result"
    }
   ],
   "source": [
    "average_order =df.groupby('month')['order_quantity'].mean().round(3).sort_values(ascending=False)\n",
    "average_order"
   ]
  },
  {
   "cell_type": "markdown",
   "id": "faa0e9b9",
   "metadata": {},
   "source": [
    "### Revenue by Year"
   ]
  },
  {
   "cell_type": "code",
   "execution_count": 45,
   "id": "5a66ed02",
   "metadata": {},
   "outputs": [
    {
     "data": {
      "text/plain": [
       "year\n",
       "2011    10051324\n",
       "2012    10243236\n",
       "2014    15583042\n",
       "2013    16892817\n",
       "2016    19599815\n",
       "2015    22318354\n",
       "Name: revenue, dtype: int64"
      ]
     },
     "execution_count": 45,
     "metadata": {},
     "output_type": "execute_result"
    }
   ],
   "source": [
    "year_revenue=df.groupby('year')['revenue'].sum().sort_values()\n",
    "year_revenue"
   ]
  },
  {
   "cell_type": "code",
   "execution_count": 46,
   "id": "16b73e15",
   "metadata": {},
   "outputs": [
    {
     "data": {
      "image/png": "[encoded data removed]",
      "text/plain": [
       "<Figure size 720x360 with 1 Axes>"
      ]
     },
     "metadata": {
      "needs_background": "light"
     },
     "output_type": "display_data"
    }
   ],
   "source": [
    "year_revenue.plot(kind='barh',figsize=(10,5),color='red')\n",
    "plt.title('Revenue by Year')\n",
    "plt.ylabel('Total Revenue')\n",
    "plt.show()"
   ]
  },
  {
   "cell_type": "markdown",
   "id": "d27a1b07",
   "metadata": {},
   "source": [
    "### Average Revenue by Year"
   ]
  },
  {
   "cell_type": "code",
   "execution_count": 47,
   "id": "c1765d8d",
   "metadata": {},
   "outputs": [
    {
     "data": {
      "text/plain": [
       "year\n",
       "2011    3763.131\n",
       "2012    3845.059\n",
       "2013     697.359\n",
       "2014     535.095\n",
       "2015     921.218\n",
       "2016     672.886\n",
       "Name: revenue, dtype: float64"
      ]
     },
     "execution_count": 47,
     "metadata": {},
     "output_type": "execute_result"
    }
   ],
   "source": [
    "average_year=df.groupby('year')['revenue'].mean().round(3)\n",
    "average_year"
   ]
  },
  {
   "cell_type": "code",
   "execution_count": 48,
   "id": "9cb60278",
   "metadata": {},
   "outputs": [
    {
     "data": {
      "image/png": "[encoded data removed]",
      "text/plain": [
       "<Figure size 720x360 with 1 Axes>"
      ]
     },
     "metadata": {
      "needs_background": "light"
     },
     "output_type": "display_data"
    }
   ],
   "source": [
    "average_year.plot(kind='bar',figsize=(10,5),color='red')\n",
    "plt.title('Average Revenue by Year',fontsize=18)\n",
    "plt.xlabel('Year')\n",
    "plt.ylabel('Average Revenue')\n",
    "plt.show()"
   ]
  },
  {
   "cell_type": "markdown",
   "id": "10cfb6db",
   "metadata": {},
   "source": [
    "### Total Orders by Gender"
   ]
  },
  {
   "cell_type": "code",
   "execution_count": 49,
   "id": "c00e6b10",
   "metadata": {},
   "outputs": [
    {
     "data": {
      "text/plain": [
       "customer_gender\n",
       "Male      693747\n",
       "Female    639958\n",
       "Name: order_quantity, dtype: int64"
      ]
     },
     "execution_count": 49,
     "metadata": {},
     "output_type": "execute_result"
    }
   ],
   "source": [
    "gender=df.groupby('customer_gender')['order_quantity'].sum().sort_values(ascending=False)\n",
    "gender"
   ]
  },
  {
   "cell_type": "code",
   "execution_count": 50,
   "id": "f085af49",
   "metadata": {},
   "outputs": [
    {
     "data": {
      "image/png": "[encoded data removed]",
      "text/plain": [
       "<Figure size 432x288 with 1 Axes>"
      ]
     },
     "metadata": {},
     "output_type": "display_data"
    }
   ],
   "source": [
    "genders=list(gender.index)\n",
    "value=list(gender.values)\n",
    "\n",
    "plt.pie(value,labels=genders,autopct='%.0f%%')\n",
    "plt.title('Percentage Distribution of Orders by Gender')\n",
    "plt.show()"
   ]
  },
  {
   "cell_type": "markdown",
   "id": "e741d9f1",
   "metadata": {},
   "source": [
    "### Revenue by Country"
   ]
  },
  {
   "cell_type": "code",
   "execution_count": 51,
   "id": "f7fc2f8b",
   "metadata": {},
   "outputs": [
    {
     "data": {
      "text/plain": [
       "array(['Canada', 'Australia', 'United States', 'Germany', 'France',\n",
       "       'United Kingdom'], dtype=object)"
      ]
     },
     "execution_count": 51,
     "metadata": {},
     "output_type": "execute_result"
    }
   ],
   "source": [
    "df['country'].unique()"
   ]
  },
  {
   "cell_type": "code",
   "execution_count": 52,
   "id": "344b7704",
   "metadata": {},
   "outputs": [
    {
     "data": {
      "text/plain": [
       "country\n",
       "Canada             7984694\n",
       "France             9825708\n",
       "Germany            9958420\n",
       "United Kingdom    11016494\n",
       "Australia         25303706\n",
       "United States     30599566\n",
       "Name: revenue, dtype: int64"
      ]
     },
     "execution_count": 52,
     "metadata": {},
     "output_type": "execute_result"
    }
   ],
   "source": [
    "country=df.groupby('country')['revenue'].sum().sort_values()\n",
    "country"
   ]
  },
  {
   "cell_type": "code",
   "execution_count": 53,
   "id": "a2242008",
   "metadata": {},
   "outputs": [
    {
     "data": {
      "image/png": "[encoded data removed]",
      "text/plain": [
       "<Figure size 720x360 with 1 Axes>"
      ]
     },
     "metadata": {
      "needs_background": "light"
     },
     "output_type": "display_data"
    }
   ],
   "source": [
    "country.plot(kind='barh',figsize=(10,5),color='red')\n",
    "plt.title('Revenue by Country',fontsize=18)\n",
    "plt.ylabel('Countries',fontsize=16)\n",
    "plt.show()\n"
   ]
  },
  {
   "cell_type": "markdown",
   "id": "a9ac0f6c",
   "metadata": {},
   "source": [
    "### Profit by Country"
   ]
  },
  {
   "cell_type": "code",
   "execution_count": 54,
   "id": "bf6218ab",
   "metadata": {},
   "outputs": [
    {
     "data": {
      "text/plain": [
       "country\n",
       "Canada             3780531\n",
       "France             4283045\n",
       "Germany            4351687\n",
       "United Kingdom     4824853\n",
       "Australia         10847833\n",
       "United States     13820106\n",
       "Name: profit, dtype: int64"
      ]
     },
     "execution_count": 54,
     "metadata": {},
     "output_type": "execute_result"
    }
   ],
   "source": [
    "profit=df.groupby('country')['profit'].sum().sort_values()\n",
    "profit"
   ]
  },
  {
   "cell_type": "code",
   "execution_count": 55,
   "id": "20262863",
   "metadata": {},
   "outputs": [
    {
     "data": {
      "image/png": "[encoded data removed]",
      "text/plain": [
       "<Figure size 720x360 with 1 Axes>"
      ]
     },
     "metadata": {
      "needs_background": "light"
     },
     "output_type": "display_data"
    }
   ],
   "source": [
    "profit.plot(kind='barh',figsize=(10,5),color='red')\n",
    "plt.title('Profit by Country',fontsize=18)\n",
    "plt.ylabel('Countries')\n",
    "plt.show()"
   ]
  },
  {
   "cell_type": "markdown",
   "id": "6b395a09",
   "metadata": {},
   "source": [
    "### Total Orders by Country"
   ]
  },
  {
   "cell_type": "code",
   "execution_count": 56,
   "id": "1930a886",
   "metadata": {},
   "outputs": [
    {
     "data": {
      "text/plain": [
       "country\n",
       "Germany           124755\n",
       "France            127872\n",
       "United Kingdom    155769\n",
       "Canada            190202\n",
       "Australia         261227\n",
       "United States     473880\n",
       "Name: order_quantity, dtype: int64"
      ]
     },
     "execution_count": 56,
     "metadata": {},
     "output_type": "execute_result"
    }
   ],
   "source": [
    "country_order=df.groupby('country')['order_quantity'].sum().sort_values()\n",
    "country_order"
   ]
  },
  {
   "cell_type": "code",
   "execution_count": 57,
   "id": "668b740b",
   "metadata": {},
   "outputs": [
    {
     "data": {
      "image/png": "[encoded data removed]",
      "text/plain": [
       "<Figure size 720x360 with 1 Axes>"
      ]
     },
     "metadata": {
      "needs_background": "light"
     },
     "output_type": "display_data"
    }
   ],
   "source": [
    "country_order.plot(kind='barh',figsize=(10,5),color='red')\n",
    "plt.title('Total Orders by Country',fontsize=18)\n",
    "plt.ylabel('Countries',fontsize=18)\n",
    "plt.show()"
   ]
  },
  {
   "cell_type": "markdown",
   "id": "c2b22b87",
   "metadata": {},
   "source": [
    "### Top 10 States by Revenue"
   ]
  },
  {
   "cell_type": "code",
   "execution_count": 58,
   "id": "891cda7f",
   "metadata": {},
   "outputs": [
    {
     "data": {
      "text/plain": [
       "array(['British Columbia', 'New South Wales', 'Victoria', 'Oregon',\n",
       "       'California', 'Saarland', 'Seine Saint Denis', 'Moselle',\n",
       "       'Queensland', 'England', 'Nord', 'Washington', 'Hessen',\n",
       "       'Nordrhein-Westfalen', 'Hamburg', 'Loir et Cher', 'Kentucky',\n",
       "       'Seine (Paris)', 'South Australia', 'Loiret', 'Alberta', 'Bayern',\n",
       "       'Hauts de Seine', 'Yveline', 'Essonne', \"Val d'Oise\", 'Tasmania',\n",
       "       'Seine et Marne', 'Val de Marne', 'Pas de Calais',\n",
       "       'Charente-Maritime', 'Garonne (Haute)', 'Brandenburg', 'Texas',\n",
       "       'New York', 'Florida', 'Somme', 'Illinois', 'South Carolina',\n",
       "       'North Carolina', 'Georgia', 'Virginia', 'Ohio', 'Ontario',\n",
       "       'Wyoming', 'Missouri', 'Montana', 'Utah', 'Minnesota',\n",
       "       'Mississippi', 'Massachusetts', 'Arizona', 'Alabama'], dtype=object)"
      ]
     },
     "execution_count": 58,
     "metadata": {},
     "output_type": "execute_result"
    }
   ],
   "source": [
    "df['state'].unique()"
   ]
  },
  {
   "cell_type": "code",
   "execution_count": 59,
   "id": "01dd2558",
   "metadata": {},
   "outputs": [
    {
     "data": {
      "text/plain": [
       "state\n",
       "California          17887092\n",
       "England             11016494\n",
       "New South Wales     10489298\n",
       "Washington           8590886\n",
       "British Columbia     7926676\n",
       "Victoria             6377026\n",
       "Queensland           6018596\n",
       "Oregon               3994213\n",
       "Saarland             2471294\n",
       "Hessen               2223581\n",
       "Name: revenue, dtype: int64"
      ]
     },
     "execution_count": 59,
     "metadata": {},
     "output_type": "execute_result"
    }
   ],
   "source": [
    "state_revenue = df.groupby('state')['revenue'].sum().sort_values().nlargest(10)\n",
    "state_revenue"
   ]
  },
  {
   "cell_type": "code",
   "execution_count": 60,
   "id": "d636aded",
   "metadata": {},
   "outputs": [
    {
     "data": {
      "image/png": "[encoded data removed]",
      "text/plain": [
       "<Figure size 720x360 with 1 Axes>"
      ]
     },
     "metadata": {
      "needs_background": "light"
     },
     "output_type": "display_data"
    }
   ],
   "source": [
    "state_revenue.sort_values().plot(kind='barh', figsize=(10,5), color='red')\n",
    "plt.title('Top 10 States by Revenue', fontsize=18)\n",
    "plt.ylabel('States')\n",
    "plt.show()"
   ]
  },
  {
   "cell_type": "markdown",
   "id": "d2c17d61",
   "metadata": {},
   "source": [
    "### Top 10 States by Profit"
   ]
  },
  {
   "cell_type": "code",
   "execution_count": 61,
   "id": "ae161c45",
   "metadata": {},
   "outputs": [
    {
     "data": {
      "text/plain": [
       "state\n",
       "California          8070980\n",
       "England             4824853\n",
       "New South Wales     4470996\n",
       "Washington          3876306\n",
       "British Columbia    3756413\n",
       "Victoria            2761561\n",
       "Queensland          2578224\n",
       "Oregon              1811395\n",
       "Saarland            1077426\n",
       "Hessen               967046\n",
       "Name: profit, dtype: int64"
      ]
     },
     "execution_count": 61,
     "metadata": {},
     "output_type": "execute_result"
    }
   ],
   "source": [
    "state_profit=df.groupby('state')['profit'].sum().nlargest(10)\n",
    "state_profit"
   ]
  },
  {
   "cell_type": "code",
   "execution_count": 62,
   "id": "240b90be",
   "metadata": {},
   "outputs": [
    {
     "data": {
      "image/png": "[encoded data removed]",
      "text/plain": [
       "<Figure size 720x360 with 1 Axes>"
      ]
     },
     "metadata": {
      "needs_background": "light"
     },
     "output_type": "display_data"
    }
   ],
   "source": [
    "state_profit.sort_values().plot(kind='barh',figsize=(10,5),color='red')\n",
    "plt.title('Top 10 States by profit',fontsize=18)\n",
    "plt.ylabel('States',fontsize=18)\n",
    "plt.show()"
   ]
  },
  {
   "cell_type": "markdown",
   "id": "5c7747aa",
   "metadata": {},
   "source": [
    "### Top 10 States by Order Quantity"
   ]
  },
  {
   "cell_type": "code",
   "execution_count": 63,
   "id": "58eee531",
   "metadata": {},
   "outputs": [
    {
     "data": {
      "text/plain": [
       "state\n",
       "California             267614\n",
       "British Columbia       189499\n",
       "England                155769\n",
       "Washington             136894\n",
       "New South Wales        114898\n",
       "Oregon                  66551\n",
       "Victoria                65668\n",
       "Queensland              57014\n",
       "Saarland                30856\n",
       "Nordrhein-Westfalen     29744\n",
       "Name: order_quantity, dtype: int64"
      ]
     },
     "execution_count": 63,
     "metadata": {},
     "output_type": "execute_result"
    }
   ],
   "source": [
    "state_order=df.groupby('state')['order_quantity'].sum().nlargest(10)\n",
    "state_order"
   ]
  },
  {
   "cell_type": "code",
   "execution_count": 64,
   "id": "b3bd8ecb",
   "metadata": {},
   "outputs": [
    {
     "data": {
      "image/png": "[encoded data removed]",
      "text/plain": [
       "<Figure size 720x360 with 1 Axes>"
      ]
     },
     "metadata": {
      "needs_background": "light"
     },
     "output_type": "display_data"
    }
   ],
   "source": [
    "state_order.sort_values().plot(kind='barh',figsize=(10,5),color='red')\n",
    "plt.title('Top 10 States by Order Quantity',fontsize=18)\n",
    "plt.ylabel('States',fontsize=18)\n",
    "plt.show()"
   ]
  },
  {
   "cell_type": "markdown",
   "id": "de58c854",
   "metadata": {},
   "source": [
    "### Total Profit by Sub-Category"
   ]
  },
  {
   "cell_type": "code",
   "execution_count": 65,
   "id": "0dc2191a",
   "metadata": {},
   "outputs": [
    {
     "data": {
      "text/plain": [
       "array(['Bike Racks', 'Bike Stands', 'Bottles and Cages', 'Caps',\n",
       "       'Cleaners', 'Fenders', 'Gloves', 'Helmets', 'Hydration Packs',\n",
       "       'Jerseys', 'Mountain Bikes', 'Road Bikes', 'Shorts', 'Socks',\n",
       "       'Tires and Tubes', 'Touring Bikes', 'Vests'], dtype=object)"
      ]
     },
     "execution_count": 65,
     "metadata": {},
     "output_type": "execute_result"
    }
   ],
   "source": [
    "df['sub_category'].unique()"
   ]
  },
  {
   "cell_type": "code",
   "execution_count": 66,
   "id": "af52c742",
   "metadata": {},
   "outputs": [
    {
     "data": {
      "text/plain": [
       "sub_category\n",
       "Road Bikes           14083736\n",
       "Mountain Bikes       10669170\n",
       "Helmets               3993484\n",
       "Tires and Tubes       3173102\n",
       "Touring Bikes         3040263\n",
       "Shorts                1195392\n",
       "Jerseys               1057140\n",
       "Bottles and Cages      945519\n",
       "Fenders                869419\n",
       "Hydration Packs        676392\n",
       "Vests                  629312\n",
       "Gloves                 599633\n",
       "Bike Racks             355575\n",
       "Bike Stands            240000\n",
       "Cleaners               137714\n",
       "Caps                   134540\n",
       "Socks                  107664\n",
       "Name: profit, dtype: int64"
      ]
     },
     "execution_count": 66,
     "metadata": {},
     "output_type": "execute_result"
    }
   ],
   "source": [
    "sub=df.groupby('sub_category')['profit'].sum().sort_values(ascending=False)\n",
    "sub"
   ]
  },
  {
   "cell_type": "code",
   "execution_count": 67,
   "id": "43e74a97",
   "metadata": {},
   "outputs": [
    {
     "data": {
      "image/png": "[encoded data removed]",
      "text/plain": [
       "<Figure size 720x360 with 1 Axes>"
      ]
     },
     "metadata": {
      "needs_background": "light"
     },
     "output_type": "display_data"
    }
   ],
   "source": [
    "sub.sort_values().plot(kind='barh',figsize=(10,5),color='red')\n",
    "plt.title('Profit by Sub_Category')\n",
    "plt.ylabel('Sub_Category')\n",
    "plt.show()"
   ]
  },
  {
   "cell_type": "markdown",
   "id": "8d44753b",
   "metadata": {},
   "source": [
    "### Profit by Product Category"
   ]
  },
  {
   "cell_type": "code",
   "execution_count": 68,
   "id": "59f988a3",
   "metadata": {},
   "outputs": [
    {
     "data": {
      "text/plain": [
       "array(['Accessories', 'Clothing', 'Bikes'], dtype=object)"
      ]
     },
     "execution_count": 68,
     "metadata": {},
     "output_type": "execute_result"
    }
   ],
   "source": [
    "df['product_category'].unique()"
   ]
  },
  {
   "cell_type": "code",
   "execution_count": 69,
   "id": "1e6ee764",
   "metadata": {},
   "outputs": [
    {
     "data": {
      "text/plain": [
       "product_category\n",
       "Bikes          27793169\n",
       "Accessories    10391205\n",
       "Clothing        3723681\n",
       "Name: profit, dtype: int64"
      ]
     },
     "execution_count": 69,
     "metadata": {},
     "output_type": "execute_result"
    }
   ],
   "source": [
    "product=df.groupby('product_category')['profit'].sum().sort_values(ascending=False)\n",
    "product"
   ]
  },
  {
   "cell_type": "code",
   "execution_count": 70,
   "id": "7fb1e639",
   "metadata": {},
   "outputs": [
    {
     "data": {
      "image/png": "[encoded data removed]",
      "text/plain": [
       "<Figure size 360x360 with 1 Axes>"
      ]
     },
     "metadata": {
      "needs_background": "light"
     },
     "output_type": "display_data"
    }
   ],
   "source": [
    "product.sort_values().plot(kind='barh',figsize=(5,5),color='red')\n",
    "plt.title('Profit by Product Category')\n",
    "plt.ylabel('Product Category')\n",
    "plt.show()"
   ]
  },
  {
   "cell_type": "code",
   "execution_count": 71,
   "id": "560a4696",
   "metadata": {},
   "outputs": [],
   "source": [
    "df.to_csv('Updated bike sales dataset.csv', index=False)"
   ]
  }
 ],
 "metadata": {
  "kernelspec": {
   "display_name": "Python 3 (ipykernel)",
   "language": "python",
   "name": "python3"
  },
  "language_info": {
   "codemirror_mode": {
    "name": "ipython",
    "version": 3
   },
   "file_extension": ".py",
   "mimetype": "text/x-python",
   "name": "python",
   "nbconvert_exporter": "python",
   "pygments_lexer": "ipython3",
   "version": "3.9.12"
  }
 },
 "nbformat": 4,
 "nbformat_minor": 5
}
